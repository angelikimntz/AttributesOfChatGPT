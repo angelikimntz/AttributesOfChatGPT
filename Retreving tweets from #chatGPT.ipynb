{
 "cells": [
  {
   "cell_type": "markdown",
   "id": "32aee5d0",
   "metadata": {},
   "source": [
    "# COLLECTING TWEETS FROM #ChatGPT"
   ]
  },
  {
   "cell_type": "markdown",
   "id": "e234f258",
   "metadata": {},
   "source": [
    "## INSTALLATION TWEEPY & IMPORT LIBRARIES"
   ]
  },
  {
   "cell_type": "code",
   "execution_count": null,
   "id": "2d75b086",
   "metadata": {},
   "outputs": [],
   "source": [
    "!pip install tweepy\n",
    "import tweepy,csv\n"
   ]
  },
  {
   "cell_type": "markdown",
   "id": "2cd8e886",
   "metadata": {},
   "source": [
    "## BEARER TOKEN & CLIENT"
   ]
  },
  {
   "cell_type": "code",
   "execution_count": null,
   "id": "437eec82",
   "metadata": {},
   "outputs": [],
   "source": [
    "bearer_token = \"AAAAAAAAAAAAAAAAAAAAAMjVkAEAAAAACFmXE4t3BkZCPRqjcpwovt%2FhGfM%3D5cXorkycnQZfyFxD16VpjhP82ZjguoaXLHMZjclVzYI3jEQvzi\"\n",
    "client = tweepy.Client(bearer_token=bearer_token)"
   ]
  },
  {
   "cell_type": "markdown",
   "id": "9fd2cef6",
   "metadata": {},
   "source": [
    "## CODE TO EXTRACT 1000 TWEETS"
   ]
  },
  {
   "cell_type": "code",
   "execution_count": null,
   "id": "11642d0a",
   "metadata": {},
   "outputs": [],
   "source": [
    "tweet_fields_to_get=['text']\n",
    "paginator = tweepy.Paginator(client.search_recent_tweets, \"-is:retweet -is:reply #ChatGPT lang:en\",\n",
    "                           tweet_fields=tweet_fields_to_get, max_results=100, limit=5).flatten(limit=1000)\n",
    "       "
   ]
  },
  {
   "cell_type": "markdown",
   "id": "db6eab32",
   "metadata": {},
   "source": [
    "## OPEN \"ChatGPT.csv\""
   ]
  },
  {
   "cell_type": "code",
   "execution_count": null,
   "id": "d8e8f4fb",
   "metadata": {},
   "outputs": [],
   "source": [
    "fw=open('ChatGPT.csv','w',encoding='utf8')\n",
    "my_writer=csv.writer(fw,lineterminator='\\n') \n",
    "my_writer.writerow(tweet_fields_to_get) \n",
    "for tweet in paginator:  \n",
    "    new_row=[] \n",
    "    for field in tweet_fields_to_get: \n",
    "        new_row.append(tweet[field])\n",
    "\n",
    "    my_writer.writerow(new_row)\n",
    "    \n",
    "fw.close()"
   ]
  }
 ],
 "metadata": {
  "kernelspec": {
   "display_name": "Python 3 (ipykernel)",
   "language": "python",
   "name": "python3"
  },
  "language_info": {
   "codemirror_mode": {
    "name": "ipython",
    "version": 3
   },
   "file_extension": ".py",
   "mimetype": "text/x-python",
   "name": "python",
   "nbconvert_exporter": "python",
   "pygments_lexer": "ipython3",
   "version": "3.9.13"
  }
 },
 "nbformat": 4,
 "nbformat_minor": 5
}
