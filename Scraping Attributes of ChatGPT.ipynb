{
 "cells": [
  {
   "cell_type": "markdown",
   "id": "1e3b7091",
   "metadata": {},
   "source": [
    "# SCRAPING TOP-K ATTRIBUTES OF #ChatGPT\n"
   ]
  },
  {
   "cell_type": "markdown",
   "id": "42937c5d",
   "metadata": {},
   "source": [
    "## INSTALLATIONS"
   ]
  },
  {
   "cell_type": "code",
   "execution_count": null,
   "id": "2c129c3b",
   "metadata": {},
   "outputs": [],
   "source": [
    "!pip install spacy \n",
    "nltk.download('stopwords')\n",
    "!python -m spacy download en_core_web_lg"
   ]
  },
  {
   "cell_type": "markdown",
   "id": "afabf99b",
   "metadata": {},
   "source": [
    "## IMPORT LIBRARIES"
   ]
  },
  {
   "cell_type": "code",
   "execution_count": null,
   "id": "26f67d5e",
   "metadata": {},
   "outputs": [],
   "source": [
    "from nltk.tokenize import sent_tokenize,word_tokenize\n",
    "from nltk.corpus import stopwords\n",
    "from collections import defaultdict\n",
    "import os\n",
    "import csv\n",
    "import spacy\n",
    "import nltk"
   ]
  },
  {
   "cell_type": "markdown",
   "id": "2e6efaab",
   "metadata": {},
   "source": [
    "## FUNCTIONS"
   ]
  },
  {
   "cell_type": "markdown",
   "id": "b84ea040",
   "metadata": {},
   "source": [
    "*LOAD HASHTAG TWEETS*"
   ]
  },
  {
   "cell_type": "code",
   "execution_count": null,
   "id": "cc12240d",
   "metadata": {},
   "outputs": [],
   "source": [
    "def load_hashtags(\n",
    "    input_folder:str, \n",
    "    hashtag_length_lower_bound:int,   \n",
    "    \n",
    "):\n",
    "   \n",
    "    hashtags=[]  \n",
    "    \n",
    "    file=open(\"ChatGPT.csv\", encoding=\"utf8\")\n",
    "    reader=csv.reader(file)  \n",
    "    next(reader)\n",
    "        \n",
    "    for line in reader: \n",
    "    \n",
    "        if len(line[0])<=hashtag_length_lower_bound:continue \n",
    "             \n",
    "        hashtags.append(line[0]) \n",
    "      \n",
    "    file.close()\n",
    "               \n",
    "    return hashtags"
   ]
  },
  {
   "cell_type": "markdown",
   "id": "dc696596",
   "metadata": {},
   "source": [
    "*TOKENIZE TWEETS WITH SPACY*"
   ]
  },
  {
   "cell_type": "code",
   "execution_count": null,
   "id": "b2c58df0",
   "metadata": {},
   "outputs": [],
   "source": [
    "def process_hashtag_spacy(        \n",
    "    text:str,\n",
    "    nlp:spacy.lang.en.English\n",
    "    ):\n",
    " \n",
    "    processed_hashtag=[]\n",
    "    for tweet in text:\n",
    "        tweets_hashtag=[]\n",
    "        sentences=sent_tokenize(tweet) \n",
    "        for sentence in sentences: \n",
    "            tweets_hashtag.append(nlp(sentence))\n",
    "            \n",
    "        processed_hashtag.append(tweets_hashtag)\n",
    "        \n",
    "    return processed_hashtag\n",
    "    "
   ]
  },
  {
   "cell_type": "markdown",
   "id": "86391724",
   "metadata": {},
   "source": [
    "*COLLECTING TOP-K FEATURES*"
   ]
  },
  {
   "cell_type": "code",
   "execution_count": null,
   "id": "0bb328aa",
   "metadata": {},
   "outputs": [],
   "source": [
    "def get_aspects(\n",
    "    tweet_list:list,\n",
    "    aspect_k:int \n",
    "    ):\n",
    "   \n",
    "    stopLex=set(stopwords.words('english'))\n",
    "\n",
    "    freq=defaultdict(int)\n",
    "    \n",
    "    for tweet in tweet_list: \n",
    "        for sentence in tweet: \n",
    "            for token in sentence: \n",
    "                    \n",
    "                    term=token.text.lower()\n",
    " \n",
    "                    \n",
    "                    if  (term not in stopLex) and (len(term)>=3) and (token.pos_=='NOUN'):\n",
    "                        freq[term]+=1\n",
    "              \n",
    "    \n",
    "    top_k_attributes=sorted(freq.items(),key=lambda x:x[1], reverse=True)[:aspect_k]\n",
    "        \n",
    "\n",
    "    return top_k_attributes"
   ]
  },
  {
   "cell_type": "markdown",
   "id": "7b28f3dd",
   "metadata": {},
   "source": [
    "## FUNCTIONS DISPLAY"
   ]
  },
  {
   "cell_type": "code",
   "execution_count": null,
   "id": "42defda0",
   "metadata": {},
   "outputs": [],
   "source": [
    "nlp = spacy.load(\"en_core_web_lg\")\n",
    "hashtags_list=load_hashtags(input_folder=\"ChatGPT.csv\",hashtag_length_lower_bound=4)\n",
    "processed_list=process_hashtag_spacy(text=hashtags_list,nlp=nlp)\n",
    "aspects_list=get_aspects(tweet_list=processed_list,aspect_num=20)"
   ]
  },
  {
   "cell_type": "markdown",
   "id": "e80ffc36",
   "metadata": {},
   "source": [
    "## GETTING THE RESULTS"
   ]
  },
  {
   "cell_type": "code",
   "execution_count": null,
   "id": "c3414c4e",
   "metadata": {},
   "outputs": [],
   "source": [
    "aspects_list"
   ]
  }
 ],
 "metadata": {
  "kernelspec": {
   "display_name": "Python 3 (ipykernel)",
   "language": "python",
   "name": "python3"
  },
  "language_info": {
   "codemirror_mode": {
    "name": "ipython",
    "version": 3
   },
   "file_extension": ".py",
   "mimetype": "text/x-python",
   "name": "python",
   "nbconvert_exporter": "python",
   "pygments_lexer": "ipython3",
   "version": "3.9.13"
  }
 },
 "nbformat": 4,
 "nbformat_minor": 5
}
